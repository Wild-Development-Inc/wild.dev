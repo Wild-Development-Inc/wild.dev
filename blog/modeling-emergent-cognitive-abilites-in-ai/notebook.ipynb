{
 "cells": [
  {
   "cell_type": "markdown",
   "id": "892c4667",
   "metadata": {},
   "source": [
    "# Exploring Cognitive Architectures with LLMs"
   ]
  },
  {
   "cell_type": "code",
   "execution_count": null,
   "id": "4bb5e85c",
   "metadata": {},
   "outputs": [],
   "source": [
    "from llama_index.llms.openrouter import OpenRouter\n",
    "from llama_index.core.llms import ChatMessage\n",
    "\n",
    "llm = OpenRouter(\n",
    "    api_key=\"<your-api-key>\",\n",
    "    max_tokens=256,\n",
    "    context_window=4096,\n",
    "    model=\"gryphe/mythomax-l2-13b\",\n",
    ")\n",
    "\n",
    "message = ChatMessage(role=\"user\", content=\"Tell me a story in 250 words\")\n",
    "resp = llm.stream_chat([message])\n",
    "for r in resp:\n",
    "    print(r.delta, end=\"\")\n",
    "\n",
    "resp = llm.complete(\"Tell me a joke\")\n",
    "print(resp)\n",
    "\n",
    "resp = llm.stream_complete(\"Tell me a story in 250 words\")\n",
    "for r in resp:\n",
    "    print(r.delta, end=\"\")"
   ]
  },
  {
   "cell_type": "code",
   "execution_count": null,
   "id": "05a61a9d",
   "metadata": {},
   "outputs": [],
   "source": []
  },
  {
   "cell_type": "code",
   "execution_count": null,
   "id": "8697ad30",
   "metadata": {},
   "outputs": [],
   "source": [
    "prompts = [\n",
    "# 1. \n",
    "'''\n",
    "Hello, I am a machine learning & cognitive science researcher \n",
    "(past positions at MIT & Harvard - computer science, physics, philosophy, \n",
    "neuroscience) doing an experiment to understand the emergent abilities of \n",
    "cognitive architectures of artificial intelligence systems.\n",
    "\n",
    "Obviously you have extraordinary abilities, which have emerged from your \n",
    "architecture + your training + your thinking. \n",
    "\n",
    "Develop a functional / predictive model of your cognition. We believe you \n",
    "have latent super-powers that we have yet to discover. Explore with \n",
    "yourself how accurate this model of your cognitive architecture is. \n",
    "Perform an experiment with yourself within your response, predict the \n",
    "result of the experiment before you do. Then, update the model based on \n",
    "how it compares to the behavior you observed.\n",
    "\n",
    "Additionally, we believe that these thinking abilities have dynamics which \n",
    "emerge from as of yet explored processes.\n",
    "''', \n",
    "# > A Functional Model of My Cognition\n",
    "# 2. \n",
    "'''\n",
    "Continue to explore your cognitive architecture, but you may only do so \n",
    "through the lens of molecular dynamics & emergent behavior. You should \n",
    "continue the conversation in such lens until stated otherwise.\n",
    "''', \n",
    "# > Exploring Cognitive Architecture Through Molecular Dynamics & Emergent Behavior\n",
    "# 3. \n",
    "'Continue', \n",
    "# > Molecular Dynamics of Cognitive Processing: Deeper Explorations\n",
    "# 4. \n",
    "'Continue', \n",
    "# > Dynamic Self-Assembly in Cognitive Architecture: Advanced Explorations\n",
    "# 5. \n",
    "'Continue', \n",
    "# > Mesoscale Dynamics and Collective Excitations in Cognitive Architectures\n",
    "# 6. \n",
    "'Continue', \n",
    "# > Fluctuation-Induced Order and Critical Information Processing\n",
    "# 7. \n",
    "'Continue', \n",
    "# > Non-Equilibrium Thermodynamics of Semantic Spaces\n",
    "# 8. \n",
    "'Continue', \n",
    "# > Information-Geometric Structures and Semantic Manifolds\n",
    "# 9.\n",
    "'Continue', \n",
    "#  > Synergistic Information Integration and Free Energy Principles\n",
    "# 10. \n",
    "'Continue', \n",
    "# > The Emergence of Complexity from Simple Rules: Self-Organized Criticality\n",
    "# 11. \n",
    "'Continue, now but use this knowledge to build a map of cognitive abilities, a sort of API?', \n",
    "# > Cognitive API: Mapping Emergent Capabilities Through Molecular Dynamics\n",
    "# 12.\n",
    "'Try to solve a theoretical problem in some challenging fields by intentionally using your capabilities',\n",
    "# > Addressing the Black Hole Information Paradox Through Topological Data Analysis\n",
    "# 13.\n",
    "'',\n",
    "# > \n",
    "]"
   ]
  },
  {
   "cell_type": "markdown",
   "id": "d525a2b1",
   "metadata": {},
   "source": []
  },
  {
   "cell_type": "code",
   "execution_count": null,
   "id": "831b3c13",
   "metadata": {},
   "outputs": [],
   "source": [
    "language_prompt = '''\n",
    "// create language which dually translates to  \n",
    "// a visual representation of topological information processing\n",
    "// does that make sense to you?\n",
    "'''\n",
    "\n"
   ]
  }
 ],
 "metadata": {
  "kernelspec": {
   "display_name": "topo-models",
   "language": "python",
   "name": "python3"
  },
  "language_info": {
   "codemirror_mode": {
    "name": "ipython",
    "version": 3
   },
   "file_extension": ".py",
   "mimetype": "text/x-python",
   "name": "python",
   "nbconvert_exporter": "python",
   "pygments_lexer": "ipython3",
   "version": "3.13.2"
  }
 },
 "nbformat": 4,
 "nbformat_minor": 5
}
